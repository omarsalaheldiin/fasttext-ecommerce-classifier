{
  "cells": [
    {
      "cell_type": "markdown",
      "metadata": {
        "id": "tuH9aQ6GnybH"
      },
      "source": [
        "## Imports and Loading the Dataset"
      ]
    },
    {
      "cell_type": "code",
      "execution_count": 24,
      "metadata": {
        "id": "fAnCuAsNm3bS"
      },
      "outputs": [],
      "source": [
        "import pandas as pd\n",
        "import re\n",
        "import fasttext\n",
        "from sklearn.metrics import classification_report, confusion_matrix\n",
        "from sklearn.model_selection import train_test_split"
      ]
    },
    {
      "cell_type": "code",
      "execution_count": 25,
      "metadata": {
        "colab": {
          "base_uri": "https://localhost:8080/",
          "height": 206
        },
        "id": "7wmBOAZ_mrYB",
        "outputId": "95ba1346-db4e-4b0a-b28a-db3655bae379"
      },
      "outputs": [
        {
          "data": {
            "text/html": [
              "<div>\n",
              "<style scoped>\n",
              "    .dataframe tbody tr th:only-of-type {\n",
              "        vertical-align: middle;\n",
              "    }\n",
              "\n",
              "    .dataframe tbody tr th {\n",
              "        vertical-align: top;\n",
              "    }\n",
              "\n",
              "    .dataframe thead th {\n",
              "        text-align: right;\n",
              "    }\n",
              "</style>\n",
              "<table border=\"1\" class=\"dataframe\">\n",
              "  <thead>\n",
              "    <tr style=\"text-align: right;\">\n",
              "      <th></th>\n",
              "      <th>category</th>\n",
              "      <th>description</th>\n",
              "    </tr>\n",
              "  </thead>\n",
              "  <tbody>\n",
              "    <tr>\n",
              "      <th>0</th>\n",
              "      <td>Household</td>\n",
              "      <td>Paper Plane Design Framed Wall Hanging Motivat...</td>\n",
              "    </tr>\n",
              "    <tr>\n",
              "      <th>1</th>\n",
              "      <td>Household</td>\n",
              "      <td>SAF 'Floral' Framed Painting (Wood, 30 inch x ...</td>\n",
              "    </tr>\n",
              "    <tr>\n",
              "      <th>2</th>\n",
              "      <td>Household</td>\n",
              "      <td>SAF 'UV Textured Modern Art Print Framed' Pain...</td>\n",
              "    </tr>\n",
              "    <tr>\n",
              "      <th>3</th>\n",
              "      <td>Household</td>\n",
              "      <td>SAF Flower Print Framed Painting (Synthetic, 1...</td>\n",
              "    </tr>\n",
              "    <tr>\n",
              "      <th>4</th>\n",
              "      <td>Household</td>\n",
              "      <td>Incredible Gifts India Wooden Happy Birthday U...</td>\n",
              "    </tr>\n",
              "  </tbody>\n",
              "</table>\n",
              "</div>"
            ],
            "text/plain": [
              "    category                                        description\n",
              "0  Household  Paper Plane Design Framed Wall Hanging Motivat...\n",
              "1  Household  SAF 'Floral' Framed Painting (Wood, 30 inch x ...\n",
              "2  Household  SAF 'UV Textured Modern Art Print Framed' Pain...\n",
              "3  Household  SAF Flower Print Framed Painting (Synthetic, 1...\n",
              "4  Household  Incredible Gifts India Wooden Happy Birthday U..."
            ]
          },
          "execution_count": 25,
          "metadata": {},
          "output_type": "execute_result"
        }
      ],
      "source": [
        "df = pd.read_csv('ecommerceDataset.csv', names=[\"category\", \"description\"], header=None)\n",
        "df.head()"
      ]
    },
    {
      "cell_type": "markdown",
      "metadata": {
        "id": "bMMngbWVoVNQ"
      },
      "source": [
        "## Preprocess the Data\n",
        "we preprocess the data by removing punctuation, extra spaces, and converting the text to lowercase. We also add a FastText label prefix to the categories."
      ]
    },
    {
      "cell_type": "code",
      "execution_count": 26,
      "metadata": {
        "colab": {
          "base_uri": "https://localhost:8080/",
          "height": 293
        },
        "id": "a4eacDgmm93V",
        "outputId": "70fa361f-bb5b-47cb-bfaa-2094f8e483eb"
      },
      "outputs": [
        {
          "name": "stderr",
          "output_type": "stream",
          "text": [
            "/tmp/ipykernel_235418/2872415075.py:9: FutureWarning: A value is trying to be set on a copy of a DataFrame or Series through chained assignment using an inplace method.\n",
            "The behavior will change in pandas 3.0. This inplace method will never work because the intermediate object on which we are setting values always behaves as a copy.\n",
            "\n",
            "For example, when doing 'df[col].method(value, inplace=True)', try using 'df.method({col: value}, inplace=True)' or df[col] = df[col].method(value) instead, to perform the operation inplace on the original object.\n",
            "\n",
            "\n",
            "  df['category'].replace(\"Clothing & Accessories\", \"Clothing_Accessories\", inplace=True)  # Standardize categories\n"
          ]
        },
        {
          "data": {
            "text/html": [
              "<div>\n",
              "<style scoped>\n",
              "    .dataframe tbody tr th:only-of-type {\n",
              "        vertical-align: middle;\n",
              "    }\n",
              "\n",
              "    .dataframe tbody tr th {\n",
              "        vertical-align: top;\n",
              "    }\n",
              "\n",
              "    .dataframe thead th {\n",
              "        text-align: right;\n",
              "    }\n",
              "</style>\n",
              "<table border=\"1\" class=\"dataframe\">\n",
              "  <thead>\n",
              "    <tr style=\"text-align: right;\">\n",
              "      <th></th>\n",
              "      <th>category</th>\n",
              "      <th>description</th>\n",
              "      <th>category_description</th>\n",
              "    </tr>\n",
              "  </thead>\n",
              "  <tbody>\n",
              "    <tr>\n",
              "      <th>0</th>\n",
              "      <td>__label__Household</td>\n",
              "      <td>Paper Plane Design Framed Wall Hanging Motivat...</td>\n",
              "      <td>__label__Household paper plane design framed w...</td>\n",
              "    </tr>\n",
              "    <tr>\n",
              "      <th>1</th>\n",
              "      <td>__label__Household</td>\n",
              "      <td>SAF 'Floral' Framed Painting (Wood, 30 inch x ...</td>\n",
              "      <td>__label__Household saf 'floral' framed paintin...</td>\n",
              "    </tr>\n",
              "    <tr>\n",
              "      <th>2</th>\n",
              "      <td>__label__Household</td>\n",
              "      <td>SAF 'UV Textured Modern Art Print Framed' Pain...</td>\n",
              "      <td>__label__Household saf 'uv textured modern art...</td>\n",
              "    </tr>\n",
              "    <tr>\n",
              "      <th>3</th>\n",
              "      <td>__label__Household</td>\n",
              "      <td>SAF Flower Print Framed Painting (Synthetic, 1...</td>\n",
              "      <td>__label__Household saf flower print framed pai...</td>\n",
              "    </tr>\n",
              "    <tr>\n",
              "      <th>4</th>\n",
              "      <td>__label__Household</td>\n",
              "      <td>Incredible Gifts India Wooden Happy Birthday U...</td>\n",
              "      <td>__label__Household incredible gifts india wood...</td>\n",
              "    </tr>\n",
              "  </tbody>\n",
              "</table>\n",
              "</div>"
            ],
            "text/plain": [
              "             category                                        description  \\\n",
              "0  __label__Household  Paper Plane Design Framed Wall Hanging Motivat...   \n",
              "1  __label__Household  SAF 'Floral' Framed Painting (Wood, 30 inch x ...   \n",
              "2  __label__Household  SAF 'UV Textured Modern Art Print Framed' Pain...   \n",
              "3  __label__Household  SAF Flower Print Framed Painting (Synthetic, 1...   \n",
              "4  __label__Household  Incredible Gifts India Wooden Happy Birthday U...   \n",
              "\n",
              "                                category_description  \n",
              "0  __label__Household paper plane design framed w...  \n",
              "1  __label__Household saf 'floral' framed paintin...  \n",
              "2  __label__Household saf 'uv textured modern art...  \n",
              "3  __label__Household saf flower print framed pai...  \n",
              "4  __label__Household incredible gifts india wood...  "
            ]
          },
          "execution_count": 26,
          "metadata": {},
          "output_type": "execute_result"
        }
      ],
      "source": [
        "def preprocess_text(text):\n",
        "    text = re.sub(r'\\n', ' ', text)  # Remove newline characters\n",
        "    text = re.sub(r'[^\\w\\s\\']', ' ', text)  # Remove punctuation\n",
        "    text = re.sub(' +', ' ', text)  # Remove extra spaces\n",
        "    return text.strip().lower()  # Convert to lower case\n",
        "\n",
        "def preprocess_data(df):\n",
        "    df.dropna(inplace=True)  # Drop NA values\n",
        "    df['category'].replace(\"Clothing & Accessories\", \"Clothing_Accessories\", inplace=True)  # Standardize categories\n",
        "    df['category'] = '__label__' + df['category'].astype(str)  # Add FastText label prefix\n",
        "    df['category_description'] = df['category'] + ' ' + df['description'].apply(preprocess_text)\n",
        "    return df\n",
        "\n",
        "\n",
        "df = preprocess_data(df)\n",
        "df.head()\n"
      ]
    },
    {
      "cell_type": "markdown",
      "metadata": {
        "id": "0SZUrZtcollI"
      },
      "source": [
        "## Train-Test Split\n",
        "We will split the data into training and testing sets using `train_test_split`."
      ]
    },
    {
      "cell_type": "code",
      "execution_count": 27,
      "metadata": {
        "colab": {
          "base_uri": "https://localhost:8080/"
        },
        "id": "HxBy9nP3nBH5",
        "outputId": "da7bb190-5a1b-478a-9a06-cd22a0f8ec94"
      },
      "outputs": [
        {
          "data": {
            "text/plain": [
              "((40339, 3), (10085, 3))"
            ]
          },
          "execution_count": 27,
          "metadata": {},
          "output_type": "execute_result"
        }
      ],
      "source": [
        "train, test = train_test_split(df, test_size=0.2)\n",
        "train.shape, test.shape\n"
      ]
    },
    {
      "cell_type": "markdown",
      "metadata": {
        "id": "4Atiyub_ouno"
      },
      "source": [
        "## Save the Data for FastText\n",
        "The training and testing data need to be saved in a specific format for FastText."
      ]
    },
    {
      "cell_type": "code",
      "execution_count": 28,
      "metadata": {
        "id": "h7SG8HHZnE3P"
      },
      "outputs": [],
      "source": [
        "def save_fasttext_format(df, file_name, text_column):\n",
        "    df.to_csv(file_name, columns=[text_column], index=False, header=False)\n",
        "\n",
        "save_fasttext_format(train, \"ecommerce.train\", \"category_description\")\n",
        "save_fasttext_format(test, \"ecommerce.test\", \"category_description\")"
      ]
    },
    {
      "cell_type": "markdown",
      "metadata": {
        "id": "sE_ySSIio3ip"
      },
      "source": [
        "## Train the FastText Model\n",
        "we'll train the FastText model on the training data."
      ]
    },
    {
      "cell_type": "code",
      "execution_count": 29,
      "metadata": {
        "id": "mgavHqG1nGAz"
      },
      "outputs": [
        {
          "name": "stderr",
          "output_type": "stream",
          "text": [
            "Read 4M words\n",
            "Number of words:  79409\n",
            "Number of labels: 4\n",
            "Progress: 100.0% words/sec/thread: 1088189 lr:  0.000000 avg.loss:  0.144561 ETA:   0h 0m 0s\n"
          ]
        }
      ],
      "source": [
        "def train_model(train_file, lr=0.5, epoch=3, wordNgrams=2):\n",
        "    model = fasttext.train_supervised(input=train_file, lr=lr, epoch=epoch, wordNgrams=wordNgrams)\n",
        "    return model\n",
        "\n",
        "model = train_model(\"ecommerce.train\")"
      ]
    },
    {
      "cell_type": "markdown",
      "metadata": {
        "id": "_j1zP37zo5vY"
      },
      "source": [
        "## Evaluate the Model\n",
        "We'll evaluate the model using the test data by calculating the classification report and confusion matrix."
      ]
    },
    {
      "cell_type": "code",
      "execution_count": 30,
      "metadata": {
        "colab": {
          "base_uri": "https://localhost:8080/"
        },
        "id": "JhGgASJcnHLm",
        "outputId": "4d3431d4-b482-4bd7-d139-92f4870b0598"
      },
      "outputs": [
        {
          "name": "stdout",
          "output_type": "stream",
          "text": [
            "Classification Report:\n",
            "                                precision    recall  f1-score   support\n",
            "\n",
            "               __label__Books       0.97      0.98      0.97      2368\n",
            "__label__Clothing_Accessories       0.99      0.98      0.98      1745\n",
            "         __label__Electronics       0.97      0.96      0.97      2080\n",
            "           __label__Household       0.98      0.98      0.98      3892\n",
            "\n",
            "                     accuracy                           0.98     10085\n",
            "                    macro avg       0.98      0.97      0.98     10085\n",
            "                 weighted avg       0.98      0.98      0.98     10085\n",
            "\n",
            "Confusion Matrix:\n",
            " [[2312    7   16   33]\n",
            " [  16 1708    5   16]\n",
            " [  32    9 2000   39]\n",
            " [  33    4   32 3823]]\n"
          ]
        }
      ],
      "source": [
        "def evaluate_model(model, test_data):\n",
        "    y_true = [row.split()[0] for row in test_data]\n",
        "    y_pred = [model.predict(row.split(' ', 1)[1][:-2])[0][0] for row in test_data]\n",
        "    print(\"Classification Report:\\n\", classification_report(y_true, y_pred))\n",
        "    print(\"Confusion Matrix:\\n\", confusion_matrix(y_true, y_pred))\n",
        "\n",
        "with open(\"ecommerce.test\") as f:\n",
        "    test_data = f.readlines()\n",
        "\n",
        "evaluate_model(model, test_data)"
      ]
    },
    {
      "cell_type": "markdown",
      "metadata": {
        "id": "s7wbjScpo6nZ"
      },
      "source": [
        "## Example Predictions\n",
        "let's test the model with a few example predictions."
      ]
    },
    {
      "cell_type": "code",
      "execution_count": 31,
      "metadata": {
        "colab": {
          "base_uri": "https://localhost:8080/"
        },
        "id": "1ORDAjqinQf8",
        "outputId": "5abaf4be-537e-4edf-9b4b-803fcfa6888b"
      },
      "outputs": [
        {
          "data": {
            "text/plain": [
              "(('__label__Electronics',), array([0.9776547]))"
            ]
          },
          "execution_count": 31,
          "metadata": {},
          "output_type": "execute_result"
        }
      ],
      "source": [
        "model.predict(\"wintech assemble desktop pc cpu 500 gb sata hdd 4 gb ram intel c2d processor 3\")"
      ]
    },
    {
      "cell_type": "code",
      "execution_count": 32,
      "metadata": {
        "colab": {
          "base_uri": "https://localhost:8080/"
        },
        "id": "u4McY3PFnRxD",
        "outputId": "e4d8ae95-1195-4dc6-eafd-4cd5bcbae86c"
      },
      "outputs": [
        {
          "data": {
            "text/plain": [
              "(('__label__Clothing_Accessories',), array([1.00001001]))"
            ]
          },
          "execution_count": 32,
          "metadata": {},
          "output_type": "execute_result"
        }
      ],
      "source": [
        "model.predict(\"ockey men's cotton t shirt fabric details 80 cotton 20 polyester super combed cotton rich fabric\")"
      ]
    },
    {
      "cell_type": "code",
      "execution_count": 33,
      "metadata": {
        "colab": {
          "base_uri": "https://localhost:8080/"
        },
        "id": "TtlTSsB6nSg8",
        "outputId": "db299c9d-69fd-4cf1-d9fe-d83290f5f574"
      },
      "outputs": [
        {
          "data": {
            "text/plain": [
              "(('__label__Books',), array([1.00001001]))"
            ]
          },
          "execution_count": 33,
          "metadata": {},
          "output_type": "execute_result"
        }
      ],
      "source": [
        "model.predict(\"think and grow rich deluxe edition\")"
      ]
    }
  ],
  "metadata": {
    "colab": {
      "provenance": []
    },
    "kernelspec": {
      "display_name": "Python 3",
      "name": "python3"
    },
    "language_info": {
      "codemirror_mode": {
        "name": "ipython",
        "version": 3
      },
      "file_extension": ".py",
      "mimetype": "text/x-python",
      "name": "python",
      "nbconvert_exporter": "python",
      "pygments_lexer": "ipython3",
      "version": "3.9.19"
    }
  },
  "nbformat": 4,
  "nbformat_minor": 0
}
